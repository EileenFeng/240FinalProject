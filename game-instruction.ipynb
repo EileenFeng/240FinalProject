{
 "cells": [
  {
   "cell_type": "code",
   "execution_count": 5,
   "metadata": {},
   "outputs": [
    {
     "name": "stdout",
     "output_type": "stream",
     "text": [
      "Assembled! Use %dis or %dump to examine; use %exe to run.\n"
     ]
    }
   ],
   "source": [
    ".ORIG x3000\n",
    ".SET MODE TERMINAL\n",
    "    ST     R7, REG7\n",
    "    JSR PUSH \n",
    "    ;;;;;;;;;;;;;;;intro \n",
    "    JSR INTRO\n",
    "    TRAP x22\n",
    "    JSR OPONE\n",
    "    TRAP x22\n",
    "    JSR OPTWO\n",
    "    TRAP x22\n",
    "    ;;;;;;;;;;;;;;;give initial state and goal state\n",
    "    ;;;;;;;;;;;;;;;assign a register to store the #steps\n",
    "    ;;;;;;;;;;;;;;;ask for user input\n",
    "    ;;;;;;;;;;;;;;;update game state\n",
    "    \n",
    "    ;;;;;;;;;;;;;;;win cases\n",
    "    JSR WIN_MES\n",
    "    TRAP x22\n",
    "    JSR WIN_PIC\n",
    "    ;;;;;;;;;;;;;;;lose cases\n",
    "    JSR POP        ;restore the value for all registers\n",
    "    LD     R7, REG7\n",
    "    HALT\n",
    "\n",
    "PUSH:  ST R6, REG6     ;; save R5, R6 to MEMORY\n",
    "       ST R5, REG5     ;; R7 has return address\n",
    "                       ;; REG7 is in MEMORY already\n",
    "                       ;; R6 and R5 are destroyed\n",
    "       LD R6, SREG     ;; R6 is now TOP of stack\n",
    "       STR R0, R6, #0      ;; push R0 on stack\n",
    "       ADD R6, R6, #1  ;; incr\n",
    "       STR R1, R6, #0      ;; push R1 on stack\n",
    "       ADD R6, R6, #1  ;; incr\n",
    "       STR R2, R6, #0      ;; push R2 on stack\n",
    "       ADD R6, R6, #1  ;; incr\n",
    "       STR R3, R6, #0      ;; push R3 on stack\n",
    "       ADD R6, R6, #1  ;; incr\n",
    "       STR R4, R6, #0      ;; push R4 on stack\n",
    "       ADD R6, R6, #1  ;; incr\n",
    "       STR R5, R6, #0      ;; push R5 on stack\n",
    "       ADD R6, R6, #1  ;; incr\n",
    "       LD R5, REG6     ;; get R6 from MEMORY (destroys R5)\n",
    "       STR R5, R6, #0      ;; push R6 on stack\n",
    "       ADD R6, R6, #1  ;; incr\n",
    "       LD R5, REG7     ;; get R7 from MEMORY\n",
    "       STR R5, R6, #0  ;; push R7 on stack\n",
    "       ADD R6, R6, #1  ;; incr\n",
    "       ST R6, SREG      ;; save incremented SREG\n",
    "       LD R6, REG6\n",
    "       LD R5, REG5     ;;\n",
    "       RET\n",
    "      \n",
    "POP:   LD R6, SREG     ;; R6 is TOP of stack\n",
    "       ADD R6, R6, #-1     ;; decr\n",
    "       LDR  R1, R6, #0      ;; load R7\n",
    "       ST  R1, REG7    ;; save to MEMORY\n",
    "       ADD R6, R6, #-1     ;; decr\n",
    "       LDR  R1, R6, #0      ;; load R6\n",
    "       ST  R1, REG6    ;; save to MEMORY\n",
    "       ADD R6, R6, #-1     ;; decr\n",
    "       LDR  R5, R6, #0      ;; load R5\n",
    "       ADD R6, R6, #-1     ;; decr\n",
    "       LDR  R4, R6, #0      ;; load R4\n",
    "       ADD R6, R6, #-1     ;; decr\n",
    "       LDR  R3, R6, #0      ;; load R3\n",
    "       ADD R6, R6, #-1     ;; decr\n",
    "       LDR  R2, R6, #0      ;; load R2\n",
    "       ADD R6, R6, #-1     ;; decr\n",
    "       LDR  R1, R6, #0      ;; load R1\n",
    "       ADD R6, R6, #-1     ;; decr\n",
    "       LDR  R0, R6, #0      ;; load R0\n",
    "       ST R6, SREG      ;; save decremented TOP\n",
    "       LD R6, REG6, #0     ;; put R6 back the way it was\n",
    "       RET\n",
    "\n",
    "\n",
    "REG:    .BLKW    #8\n",
    "SREG:   .FILL REG\n",
    "REG5:   .FILL    #0\n",
    "REG6:   .FILL    #0\n",
    "REG7:   .FILL    #0\n",
    "HALT\n",
    "\n",
    "INTRO:  AND R0, #0\n",
    "        LEA R0, GAMEINTRO\n",
    "        RET\n",
    "       \n",
    "OPONE:  AND R0, #0\n",
    "        LEA R0, GAMEOPHEADER\n",
    "        RET\n",
    "\n",
    "OPTWO:  AND R0, #0\n",
    "        LEA R0, GAMEOPS\n",
    "        RET\n",
    "\n",
    "WIN_MES: AND R0, #0\n",
    "         LEA R0, WIN_M\n",
    "         RET\n",
    "         \n",
    "WIN_PIC: AND R0, #0\n",
    "         LEA R0, WINPIC\n",
    "         TERMINAL R0, 0\n",
    "         RET\n",
    "     \n",
    "GAMEINTRO: .STRINGZ \"Given two numbers A and a set of arithmetic operators, can you reduce A to 1 within the minimum number of steps?\\n\"\n",
    "GAMEOPHEADER: .STRINGZ \"Here are choices of operators that you can perform on A:\\n\"\n",
    "GAMEOPS: .STRINGZ \"(1)A -= 1    (2)A /= 2 (if A%2 == 0)    (3)A =/ 3(if A%3 == 0)\\n\"\n",
    "WIN_M: .STRINGZ \"YOU WIN!\"\n",
    "WINPIC: .STRINGZ \"<img width = '400' src='https://raw.githubusercontent.com/EileenFeng/240FinalProject/master/Camille%20Monet%20on%20a%20Garden%20Bench.jpg'>\"    \n",
    ".END"
   ]
  },
  {
   "cell_type": "code",
   "execution_count": 6,
   "metadata": {},
   "outputs": [
    {
     "name": "stdout",
     "output_type": "stream",
     "text": [
      "Given two numbers A and a set of arithmetic operators, can you reduce A to 1 within the minimum number of steps?\n",
      "Here are choices of operators that you can perform on A:\n",
      "(1)A -= 1    (2)A /= 2 (if A%2 == 0)    (3)A =/ 3(if A%3 == 0)\n",
      "YOU WIN!"
     ]
    },
    {
     "data": {
      "text/html": [
       "<pre><img width = '400' src='https://raw.githubusercontent.com/EileenFeng/240FinalProject/master/Camille%20Monet%20on%20a%20Garden%20Bench.jpg'></pre>"
      ],
      "text/plain": [
       "<IPython.core.display.HTML object>"
      ]
     },
     "metadata": {},
     "output_type": "display_data"
    },
    {
     "name": "stdout",
     "output_type": "stream",
     "text": [
      "============================================================\n",
      "Computation completed\n",
      "============================================================\n",
      "Instructions: 2768\n",
      "Cycles: 22865 (0.011432 milliseconds)\n",
      "\n",
      "============================================================\n",
      "Registers:\n",
      "============================================================\n",
      "PC: x048E\n",
      "N: 0 Z: 1 P: 0 \n",
      "R0: x0000 R1: x0000 R2: x0000 R3: x0000 \n",
      "R4: x0000 R5: x0000 R6: x0000 R7: x300E \n"
     ]
    }
   ],
   "source": [
    "%exe"
   ]
  },
  {
   "cell_type": "code",
   "execution_count": null,
   "metadata": {
    "collapsed": true
   },
   "outputs": [],
   "source": []
  }
 ],
 "metadata": {
  "kernelspec": {
   "display_name": "Calysto LC3",
   "language": "asm",
   "name": "calysto_lc3"
  },
  "language_info": {
   "file_extension": ".asm",
   "mimetype": "text/x-gas",
   "name": "gas"
  }
 },
 "nbformat": 4,
 "nbformat_minor": 2
}

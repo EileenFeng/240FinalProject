{
 "cells": [
  {
   "cell_type": "code",
   "execution_count": 158,
   "metadata": {},
   "outputs": [
    {
     "name": "stdout",
     "output_type": "stream",
     "text": [
      "Assembled! Use %dis or %dump to examine; use %exe to run.\n"
     ]
    }
   ],
   "source": [
    ".ORIG x3000\n",
    ".SET MODE TERMINAL\n",
    "    LEA R0, PICONE\n",
    "    TERMINAL R0, 0\n",
    "    LEA R0, PICTWO\n",
    "    TERMINAL R0, 0\n",
    "    HALT\n",
    "PICONE: .STRINGZ \"<img width='100' src='https://raw.githubusercontent.com/EileenFeng/240FinalProject/master/monet_01.jpg'></td></tr></table>\"\n",
    "PICTWO: .STRINGZ \"<table><tr><td><img width='100' src='https://raw.githubusercontent.com/EileenFeng/240FinalProject/master/monet_03.jpg'> </td><td><img width='100' src='https://raw.githubusercontent.com/EileenFeng/240FinalProject/master/monet_01.jpg'></td><td><img width='100' src='https://raw.githubusercontent.com/EileenFeng/240FinalProject/master/monet_02.jpg'></td></tr></table>\"\n",
    ".END"
   ]
  },
  {
   "cell_type": "code",
   "execution_count": 159,
   "metadata": {},
   "outputs": [
    {
     "data": {
      "text/html": [
       "<pre><img width='100' src='https://raw.githubusercontent.com/EileenFeng/240FinalProject/master/monet_01.jpg'></td></tr></table></pre>"
      ],
      "text/plain": [
       "<IPython.core.display.HTML object>"
      ]
     },
     "metadata": {},
     "output_type": "display_data"
    },
    {
     "data": {
      "text/html": [
       "<pre><table><tr><td><img width='100' src='https://raw.githubusercontent.com/EileenFeng/240FinalProject/master/monet_03.jpg'> </td><td><img width='100' src='https://raw.githubusercontent.com/EileenFeng/240FinalProject/master/monet_01.jpg'></td><td><img width='100' src='https://raw.githubusercontent.com/EileenFeng/240FinalProject/master/monet_02.jpg'></td></tr></table></pre>"
      ],
      "text/plain": [
       "<IPython.core.display.HTML object>"
      ]
     },
     "metadata": {},
     "output_type": "display_data"
    },
    {
     "name": "stdout",
     "output_type": "stream",
     "text": [
      "============================================================\n",
      "Computation completed\n",
      "============================================================\n",
      "Instructions: 5\n",
      "Cycles: 43 (0.000022 milliseconds)\n",
      "\n",
      "============================================================\n",
      "Registers:\n",
      "============================================================\n",
      "PC: x048E\n",
      "N: 0 Z: 0 P: 1 \n",
      "R0: x3080 R1: x0000 R2: x0000 R3: x0000 \n",
      "R4: x0000 R5: x0000 R6: x0000 R7: x3005 \n"
     ]
    }
   ],
   "source": [
    "%exe"
   ]
  },
  {
   "cell_type": "code",
   "execution_count": 160,
   "metadata": {},
   "outputs": [
    {
     "name": "stdout",
     "output_type": "stream",
     "text": [
      "Assembled! Use %dis or %dump to examine; use %exe to run.\n"
     ]
    }
   ],
   "source": [
    ".ORIG x3000\n",
    ".SET MODE TERMINAL\n",
    "    JSR INTRO\n",
    "    TRAP x22\n",
    "    JSR OPONE\n",
    "    TRAP x22\n",
    "    JSR OPTWO\n",
    "    TRAP x22\n",
    "    ;win cases\n",
    "    JSR WIN_MES\n",
    "    TRAP x22\n",
    "    JSR WIN_PIC\n",
    "    HALT\n",
    "\n",
    "\n",
    "\n",
    "INTRO:  AND R0, #0\n",
    "        LEA R0, GAMEINTRO\n",
    "        RET\n",
    "       \n",
    "OPONE:  AND R0, #0\n",
    "        LEA R0, GAMEOPHEADER\n",
    "        RET\n",
    "\n",
    "OPTWO:  AND R0, #0\n",
    "        LEA R0, GAMEOPS\n",
    "        RET\n",
    "    \n",
    "WIN_MES: AND R0, #0\n",
    "         LEA R0, WIN_M\n",
    "         RET\n",
    "         \n",
    "WIN_PIC: AND R0, #0\n",
    "         LEA R0, WINPIC\n",
    "         TERMINAL R0, 0\n",
    "         RET\n",
    "     \n",
    "GAMEINTRO: .STRINGZ \"Given two numbers A and a set of arithmetic operators, can you reduce A to 1 within the minimum number of steps?\\n\"\n",
    "GAMEOPHEADER: .STRINGZ \"Here are choices of operators that you can perform on A:\\n\"\n",
    "GAMEOPS: .STRINGZ \"(1)A -= 1    (2)A /= 2 (if A%2 == 0)    (3)A =/ 3(if A%3 == 0)\\n\"\n",
    "WIN_M: .STRINGZ \"YOU WIN!\"\n",
    "WINPIC: .STRINGZ \"<img width = '400' src='https://raw.githubusercontent.com/EileenFeng/240FinalProject/master/Camille%20Monet%20on%20a%20Garden%20Bench.jpg'>\"    \n",
    ".END"
   ]
  },
  {
   "cell_type": "code",
   "execution_count": 161,
   "metadata": {},
   "outputs": [
    {
     "name": "stdout",
     "output_type": "stream",
     "text": [
      "Given two numbers A and a set of arithmetic operators, can you reduce A to 1 within the minimum number of steps?\n",
      "Here are choices of operators that you can perform on A:\n",
      "(1)A -= 1    (2)A /= 2 (if A%2 == 0)    (3)A =/ 3(if A%3 == 0)\n",
      "YOU WIN!"
     ]
    },
    {
     "data": {
      "text/html": [
       "<pre><img width = '400' src='https://raw.githubusercontent.com/EileenFeng/240FinalProject/master/Camille%20Monet%20on%20a%20Garden%20Bench.jpg'></pre>"
      ],
      "text/plain": [
       "<IPython.core.display.HTML object>"
      ]
     },
     "metadata": {},
     "output_type": "display_data"
    },
    {
     "name": "stdout",
     "output_type": "stream",
     "text": [
      "============================================================\n",
      "Computation completed\n",
      "============================================================\n",
      "Instructions: 2717\n",
      "Cycles: 22448 (0.011224 milliseconds)\n",
      "\n",
      "============================================================\n",
      "Registers:\n",
      "============================================================\n",
      "PC: x048E\n",
      "N: 0 Z: 0 P: 1 \n",
      "R0: x310F R1: x0000 R2: x0000 R3: x0000 \n",
      "R4: x0000 R5: x0000 R6: x0000 R7: x300A \n"
     ]
    }
   ],
   "source": [
    "%exe"
   ]
  },
  {
   "cell_type": "code",
   "execution_count": null,
   "metadata": {
    "collapsed": true
   },
   "outputs": [],
   "source": []
  }
 ],
 "metadata": {
  "kernelspec": {
   "display_name": "Calysto LC3",
   "language": "asm",
   "name": "calysto_lc3"
  },
  "language_info": {
   "file_extension": ".asm",
   "mimetype": "text/x-gas",
   "name": "gas"
  }
 },
 "nbformat": 4,
 "nbformat_minor": 2
}

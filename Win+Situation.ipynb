{
 "cells": [
  {
   "cell_type": "code",
   "execution_count": null,
   "metadata": {
    "collapsed": true
   },
   "outputs": [],
   "source": [
    ".ORIG x3000\n",
    ".SET MODE TERMINAL\n",
    "    JSR WIN_MES\n",
    "    TRAP x22\n",
    "    AND R0, #0\n",
    "    JSR WIN_PIC\n",
    "    ;TRAP x22\n",
    "    HALT\n",
    "\n",
    "WIN_MES: AND R0, #0\n",
    "         LEA R0, WIN_M\n",
    "         RET\n",
    "         \n",
    "WIN_PIC: AND R0, #0\n",
    "         LEA R0, HEADER\n",
    "         TERMINAL R0, 0\n",
    "         RET\n",
    "     \n",
    "WIN_M: .STRINGZ \"YOU WIN!\"\n",
    "HEADER: .STRINGZ \"<img width = '400' src='https://raw.githubusercontent.com/EileenFeng/240FinalProject/master/Camille%20Monet%20on%20a%20Garden%20Bench.jpg'>\"    \n",
    ".END"
   ]
  }
 ],
 "metadata": {
  "kernelspec": {
   "display_name": "Python 3",
   "language": "python",
   "name": "python3"
  },
  "language_info": {
   "codemirror_mode": {
    "name": "ipython",
    "version": 3
   },
   "file_extension": ".py",
   "mimetype": "text/x-python",
   "name": "python",
   "nbconvert_exporter": "python",
   "pygments_lexer": "ipython3",
   "version": "3.6.1"
  }
 },
 "nbformat": 4,
 "nbformat_minor": 2
}

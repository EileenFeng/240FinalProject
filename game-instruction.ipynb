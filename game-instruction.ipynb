{
 "cells": [
  {
   "cell_type": "code",
   "execution_count": 1,
   "metadata": {},
   "outputs": [
    {
     "name": "stdout",
     "output_type": "stream",
     "text": [
      "Assembled! Use %dis or %dump to examine; use %exe to run.\n"
     ]
    }
   ],
   "source": [
    ".ORIG x3000\n",
    ".SET MODE TERMINAL\n",
    "    ST     R7, REG7\n",
    "    JSR PUSH \n",
    "    AND R0, #0\n",
    "    LEA R0, GAMEINTRO\n",
    "    TRAP x22\n",
    "    ADD R1, R1, #13 ;ALWAYS use R1 to store the updated current number\n",
    "    TRAP x23\n",
    "    BRp #0\n",
    "    JSR UPDATE\n",
    "    JSR POP        ;restore the value for all registers\n",
    "    LD     R7, REG7\n",
    "    HALT\n",
    "\n",
    "PUSH:  ST R6, REG6     ;; save R5, R6 to MEMORY\n",
    "       ST R5, REG5     ;; R7 has return address\n",
    "       LD R6, SREG     ;; R6 is now TOP of stack\n",
    "       STR R0, R6, #0      ;; push R0 on stack\n",
    "       ADD R6, R6, #1  ;; incr\n",
    "       STR R1, R6, #0      ;; push R1 on stack\n",
    "       ADD R6, R6, #1  ;; incr\n",
    "       STR R2, R6, #0      ;; push R2 on stack\n",
    "       ADD R6, R6, #1  ;; incr\n",
    "       STR R3, R6, #0      ;; push R3 on stack\n",
    "       ADD R6, R6, #1  ;; incr\n",
    "       STR R4, R6, #0      ;; push R4 on stack\n",
    "       ADD R6, R6, #1  ;; incr\n",
    "       STR R5, R6, #0      ;; push R5 on stack\n",
    "       ADD R6, R6, #1  ;; incr\n",
    "       LD R5, REG6     ;; get R6 from MEMORY (destroys R5)\n",
    "       STR R5, R6, #0      ;; push R6 on stack\n",
    "       ADD R6, R6, #1  ;; incr\n",
    "       LD R5, REG7     ;; get R7 from MEMORY\n",
    "       STR R5, R6, #0  ;; push R7 on stack\n",
    "       ADD R6, R6, #1  ;; incr\n",
    "       ST R6, SREG      ;; save incremented SREG\n",
    "       LD R6, REG6\n",
    "       LD R5, REG5     ;;\n",
    "       RET\n",
    "      \n",
    "POP:   LD R6, SREG     ;; R6 is TOP of stack\n",
    "       ADD R6, R6, #-1     ;; decr\n",
    "       LDR  R1, R6, #0      ;; load R7\n",
    "       ST  R1, REG7    ;; save to MEMORY\n",
    "       ADD R6, R6, #-1     ;; decr\n",
    "       LDR  R1, R6, #0      ;; load R6\n",
    "       ST  R1, REG6    ;; save to MEMORY\n",
    "       ADD R6, R6, #-1     ;; decr\n",
    "       LDR  R5, R6, #0      ;; load R5\n",
    "       ADD R6, R6, #-1     ;; decr\n",
    "       LDR  R4, R6, #0      ;; load R4\n",
    "       ADD R6, R6, #-1     ;; decr\n",
    "       LDR  R3, R6, #0      ;; load R3\n",
    "       ADD R6, R6, #-1     ;; decr\n",
    "       LDR  R2, R6, #0      ;; load R2\n",
    "       ADD R6, R6, #-1     ;; decr\n",
    "       LDR  R1, R6, #0      ;; load R1\n",
    "       ADD R6, R6, #-1     ;; decr\n",
    "       LDR  R0, R6, #0      ;; load R0\n",
    "       ST R6, SREG      ;; save decremented TOP\n",
    "       LD R6, REG6, #0     ;; put R6 back the way it was\n",
    "       RET\n",
    "\n",
    "REG:    .BLKW    #8\n",
    "SREG:   .FILL REG\n",
    "REG5:   .FILL    #0\n",
    "REG6:   .FILL    #0\n",
    "REG7:   .FILL    #0\n",
    "HALT \n",
    "GAMEINTRO: .STRINGZ \"Given two numbers A and a set of arithmetic operators, can you reduce A to 1 within the minimum number of steps?\\nHere are choices of operators that you can perform on A:\\n(1)A -= 1    (2)A /= 2 (if A%2 == 0)    (3)A =/ 3(if A%3 == 0)\\n\"\n",
    "UPDATE: ADD R0, R0, #-1\n",
    "        BRz MINUSONE\n",
    "        ADD R0, R0, #-1\n",
    "        BRz DIVTWO\n",
    "        ADD R0, R0, #-1\n",
    "        BRz DIVTHREE\n",
    "        RET\n",
    "MINUSONE: ADD R1, R1, #-1\n",
    "          RET\n",
    "DIVTWO: ADD R2, R2, #-2  ; ALWAYS USE R2 TO STORE THE DENOMITOR\n",
    "        ADD R3, R3, R1   ; R3 to store the current R1\n",
    "        ADD R4, R4, #0   ; R4 to store the result of calculating\n",
    "        ADD R1, R1, R2   ; minus R1 by 2\n",
    "        BRn #4\n",
    "        BRz #9\n",
    "        ADD R4, R4, #1\n",
    "        ADD R1, R1, #0\n",
    "        BRp #-6\n",
    "        AND R1, R1, #0\n",
    "        ADD R1, R1, R3  ; restore the value of R1 if not dividable\n",
    "        AND R2, R2, #0\n",
    "        AND R3, R3, #0\n",
    "        AND R4, R4, #0\n",
    "        RET\n",
    "        ADD R1, R1, R4  ; otherwise udpate the value of R1\n",
    "        ADD R1, R1, #1\n",
    "        AND R2, R2, #0\n",
    "        AND R3, R3, #0\n",
    "        AND R4, R4, #0\n",
    "        RET\n",
    "\n",
    "DIVTHREE:   ADD R2, R2, #-3  ; ALWAYS USE R2 TO STORE THE DENOMITOR\n",
    "            ADD R3, R3, R1   ; R3 to store the current R1\n",
    "            ADD R4, R4, #0   ; R4 to store the result of calculating\n",
    "            ADD R1, R1, R2   ; minus R1 by 2\n",
    "            BRn #4\n",
    "            BRz #9\n",
    "            ADD R4, R4, #1\n",
    "            ADD R1, R1, #0\n",
    "            BRp #-6\n",
    "            AND R1, R1, #0\n",
    "            ADD R1, R1, R3  ; restore the value of R1 if not dividable\n",
    "            AND R2, R2, #0\n",
    "            AND R3, R3, #0\n",
    "            AND R4, R4, #0\n",
    "            RET\n",
    "            ADD R1, R1, R4  ; otherwise udpate the value of R1\n",
    "            ADD R1, R1, #1\n",
    "            AND R2, R2, #0\n",
    "            AND R3, R3, #0\n",
    "            AND R4, R4, #0\n",
    "            RET\n",
    "WIN_MES: AND R0, #0\n",
    "         LEA R0, WIN_M\n",
    "         RET\n",
    "         \n",
    "WIN_PIC: AND R0, #0\n",
    "         LEA R0, WINPIC\n",
    "         TERMINAL R0, 0\n",
    "         RET\n",
    "WIN_M: .STRINGZ \"YOU WIN!\"\n",
    "WINPIC: .STRINGZ \"<img width = '400' src='https://raw.githubusercontent.com/EileenFeng/240FinalProject/master/Camille%20Monet%20on%20a%20Garden%20Bench.jpg'>\"    \n",
    ".END"
   ]
  },
  {
   "cell_type": "code",
   "execution_count": 2,
   "metadata": {},
   "outputs": [
    {
     "name": "stdout",
     "output_type": "stream",
     "text": [
      "Given two numbers A and a set of arithmetic operators, can you reduce A to 1 within the minimum number of steps?\n",
      "Here are choices of operators that you can perform on A:\n",
      "(1)A -= 1    (2)A /= 2 (if A%2 == 0)    (3)A =/ 3(if A%3 == 0)\n",
      "\n",
      "Input a character> 1\n",
      "1\n",
      "============================================================\n",
      "Computation completed\n",
      "============================================================\n",
      "Instructions: 2897\n",
      "Cycles: 23952 (0.011976 milliseconds)\n",
      "\n",
      "============================================================\n",
      "Registers:\n",
      "============================================================\n",
      "PC: x048E\n",
      "N: 0 Z: 1 P: 0 \n",
      "R0: x0000 R1: x0000 R2: x0000 R3: x0000 \n",
      "R4: x0000 R5: x0000 R6: x0000 R7: x300C \n"
     ]
    }
   ],
   "source": [
    "%exe"
   ]
  },
  {
   "cell_type": "code",
   "execution_count": 188,
   "metadata": {},
   "outputs": [
    {
     "name": "stdout",
     "output_type": "stream",
     "text": [
      "Assembled! Use %dis or %dump to examine; use %exe to run.\n"
     ]
    }
   ],
   "source": [
    ".ORIG x3000\n",
    "ADD R1, R1, #3\n",
    "ADD R2, R2, #-4; ALWAYS USE R2 TO STORE THE DENOMITOR\n",
    "ADD R3, R3, R1   ; R3 to store the current R1\n",
    "ADD R4, R4, #0   ; R4 to store the result of calculating\n",
    "ADD R1, R1, R2   ; minus R1 by 2\n",
    "BRn #4\n",
    "BRz #9\n",
    "ADD R4, R4, #1\n",
    "ADD R1, R1, #0\n",
    "BRp #-6\n",
    "AND R1, R1, #0\n",
    "ADD R1, R1, R3  ; restore the value of R1 if not dividable\n",
    "AND R2, R2, #0\n",
    "AND R3, R3, #0\n",
    "AND R4, R4, #0\n",
    "HALT\n",
    "ADD R1, R1, R4  ; otherwise udpate the value of R1\n",
    "ADD R1, R1, #1\n",
    "AND R2, R2, #0\n",
    "AND R3, R3, #0\n",
    "AND R4, R4, #0\n",
    "HALT\n",
    ".END"
   ]
  },
  {
   "cell_type": "code",
   "execution_count": 189,
   "metadata": {},
   "outputs": [
    {
     "name": "stdout",
     "output_type": "stream",
     "text": [
      "============================================================\n",
      "Computation completed\n",
      "============================================================\n",
      "Instructions: 12\n",
      "Cycles: 75 (0.000037 milliseconds)\n",
      "\n",
      "============================================================\n",
      "Registers:\n",
      "============================================================\n",
      "PC: x048E\n",
      "N: 0 Z: 1 P: 0 \n",
      "R0: x0000 R1: x0003 R2: x0000 R3: x0000 \n",
      "R4: x0000 R5: x0000 R6: x0000 R7: x3010 \n"
     ]
    }
   ],
   "source": [
    "%exe"
   ]
  },
  {
   "cell_type": "code",
   "execution_count": 156,
   "metadata": {},
   "outputs": [
    {
     "name": "stdout",
     "output_type": "stream",
     "text": [
      "============================================================\n",
      "Stepping...  => read, <= write, (Instructions/Cycles):\n",
      "============================================================\n",
      "    PC <= x048F\n",
      "(39/258) LEA R0, x04B0 (x048F*: xE021)\n",
      "    R0 <= x04B0\n",
      "    NZP <= (0, 0, 1)\n",
      "\n",
      "============================================================\n",
      "Registers:\n",
      "============================================================\n",
      "PC: x048F\n",
      "N: 0 Z: 0 P: 1 \n",
      "R0: x04B0 R1: x0000 R2: x0000 R3: x0000 \n",
      "R4: x0000 R5: x0000 R6: x0000 R7: x3010 \n"
     ]
    }
   ],
   "source": [
    "%step"
   ]
  },
  {
   "cell_type": "code",
   "execution_count": 146,
   "metadata": {},
   "outputs": [
    {
     "name": "stdout",
     "output_type": "stream",
     "text": [
      "============================================================\n",
      "Memory disassembled:\n",
      "============================================================\n",
      "           x3000: x1263  ADD R1, R1, #3                            [line: 1]\n",
      "           x3001: x14BE  ADD R2, R2, #-2                           [line: 2]\n",
      "           x3002: x16C1  ADD R3, R3, R1                            [line: 3]\n",
      "           x3003: x1920  ADD R4, R4, #0                            [line: 4]\n",
      "           x3004: x1242  ADD R1, R1, R2                            [line: 5]\n",
      "           x3005: x0804  BRn x300A (or 4)                          [line: 6]\n",
      "           x3006: x0405  BRz x300C (or 5)                          [line: 7]\n",
      "           x3007: x1921  ADD R4, R4, #1                            [line: 8]\n",
      "           x3008: x1260  ADD R1, R1, #0                            [line: 9]\n",
      "           x3009: x03FA  BRp x3004                                 [line: 10]\n",
      "           x300A: x1243  ADD R1, R1, R3                            [line: 11]\n",
      "           x300B: xF025  HALT                                      [line: 12]\n",
      "           x300C: x1244  ADD R1, R1, R4                            [line: 13]\n",
      "           x300D: x1261  ADD R1, R1, #1                            [line: 14]\n",
      "           x300E: xF025  HALT                                      [line: 15]\n",
      "           x300F: xF025 - 61477 \n",
      "           x3010: x14BD - 5309 \n",
      "           x3011: x16C1 - 5825 \n",
      "           x3012: x1920  ADD R4, R4, #0                            [line: 17]\n"
     ]
    }
   ],
   "source": [
    "%dis"
   ]
  },
  {
   "cell_type": "code",
   "execution_count": null,
   "metadata": {
    "collapsed": true
   },
   "outputs": [],
   "source": []
  },
  {
   "cell_type": "code",
   "execution_count": null,
   "metadata": {
    "collapsed": true
   },
   "outputs": [],
   "source": []
  },
  {
   "cell_type": "code",
   "execution_count": null,
   "metadata": {
    "collapsed": true
   },
   "outputs": [],
   "source": []
  },
  {
   "cell_type": "code",
   "execution_count": null,
   "metadata": {
    "collapsed": true
   },
   "outputs": [],
   "source": [
    "DIVTHREE: ADD R2, R2, #-3  ; ALWAYS USE R2 TO STORE THE DENOMITOR\n",
    "        ADD R3, R3, R1   ; R3 to store the current R1\n",
    "        ADD R4, R4, #0   ; R4 to store the result of calculating\n",
    "        ADD R1, R1, R2   ; minus R1 by 3\n",
    "        ADD R4, R4, #1\n",
    "        BRp #-3\n",
    "        BRz #1\n",
    "        ADD R1, R1, R3  ; restore the value of R1 if not dividable\n",
    "        ADD R1, R1, R4  ; otherwise udpate the value of R1\n",
    "        RET"
   ]
  }
 ],
 "metadata": {
  "kernelspec": {
   "display_name": "Calysto LC3",
   "language": "asm",
   "name": "calysto_lc3"
  },
  "language_info": {
   "file_extension": ".asm",
   "mimetype": "text/x-gas",
   "name": "gas"
  }
 },
 "nbformat": 4,
 "nbformat_minor": 2
}
